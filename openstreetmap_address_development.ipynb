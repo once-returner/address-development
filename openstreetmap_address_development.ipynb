{
  "nbformat": 4,
  "nbformat_minor": 0,
  "metadata": {
    "colab": {
      "name": "openstreetmap-address-development.ipynb",
      "version": "0.3.2",
      "provenance": [],
      "collapsed_sections": [],
      "include_colab_link": true
    },
    "kernelspec": {
      "name": "python3",
      "display_name": "Python 3"
    }
  },
  "cells": [
    {
      "cell_type": "markdown",
      "metadata": {
        "id": "view-in-github",
        "colab_type": "text"
      },
      "source": [
        "<a href=\"https://colab.research.google.com/github/once-returner/address-development/blob/master/openstreetmap_address_development.ipynb\" target=\"_parent\"><img src=\"https://colab.research.google.com/assets/colab-badge.svg\" alt=\"Open In Colab\"/></a>"
      ]
    },
    {
      "cell_type": "markdown",
      "metadata": {
        "id": "tiCQFJ8UhVZd",
        "colab_type": "text"
      },
      "source": [
        "# Address Development without a Normalized Jurisdiction Database - SJ Porter\n",
        "\n",
        "## Introduction\n",
        "\n",
        "This proof of concept uses a search string to find an address and surrounding counties based on a provided radius (in kilometers).\n",
        "\n",
        "## Resources\n",
        "\n",
        "- [Open Street Maps API for Python (OsmApi) Documentation](http://osmapi.metaodi.ch/)\n",
        "- [OsmApi on PyPi](https://pypi.org/project/osmapi/)\n",
        "- [Nominatim - Query OpenStreetMap data based on name and address](https://github.com/openstreetmap/Nominatim)\n",
        "- [GeoPy - Get Lat/Long and full address from an address](https://geopy.readthedocs.io/en/latest/)\n",
        "- [GeoPy on PyPi](https://pypi.org/project/geopy/)"
      ]
    },
    {
      "cell_type": "markdown",
      "metadata": {
        "id": "NmpZgZJdOO1f",
        "colab_type": "text"
      },
      "source": [
        "## Define the Search Parameters\n",
        "\n",
        "Here is where we will define our free-text address and the number of kilometers we want to develop surrounding the address."
      ]
    },
    {
      "cell_type": "code",
      "metadata": {
        "id": "XOdWg0bP5ybP",
        "colab_type": "code",
        "colab": {}
      },
      "source": [
        "# search criteria\n",
        "search_string = \"917 Chapin Rd, Chapin, SC\"\n",
        "search_kilometers = 20"
      ],
      "execution_count": 0,
      "outputs": []
    },
    {
      "cell_type": "markdown",
      "metadata": {
        "id": "uf48i3dkN4PP",
        "colab_type": "text"
      },
      "source": [
        "## Install Dependencies\n",
        "\n",
        "In order to return results, we must install the various utilities required to perform an address search."
      ]
    },
    {
      "cell_type": "code",
      "metadata": {
        "id": "A5BQHzjshAwr",
        "colab_type": "code",
        "colab": {}
      },
      "source": [
        "# first, we must install non-standard dependencies\n",
        "\n",
        "!pip install -q geopy\n",
        "!pip install -q pyproj\n",
        "\n",
        "# basic utilities\n",
        "import json\n",
        "import requests\n",
        "import pandas as pd\n",
        "import pprint\n",
        "\n",
        "# reverse geocoding utilities\n",
        "from geopy.geocoders import Nominatim\n",
        "\n",
        "# geography projection utilities\n",
        "import pyproj\n",
        "from shapely.ops import transform\n",
        "from shapely.geometry import Point\n",
        "from functools import partial"
      ],
      "execution_count": 0,
      "outputs": []
    },
    {
      "cell_type": "markdown",
      "metadata": {
        "id": "4IASQW7tOdKP",
        "colab_type": "text"
      },
      "source": [
        "## Locate the Address Being Searched\n",
        "\n",
        "Here is where we find the address that the user is searching for."
      ]
    },
    {
      "cell_type": "code",
      "metadata": {
        "id": "3yDYCVgfOUOU",
        "colab_type": "code",
        "outputId": "b33e2c24-3e54-4d81-aa45-263a76d711fd",
        "colab": {
          "base_uri": "https://localhost:8080/",
          "height": 52
        }
      },
      "source": [
        "geolocator = Nominatim(user_agent=\"address_development\")\n",
        "location = geolocator.geocode(search_string)\n",
        "\n",
        "print(f'Address Match: {location.address}')\n",
        "print(f'Coordinates: {(location.latitude, location.longitude)}')"
      ],
      "execution_count": 0,
      "outputs": [
        {
          "output_type": "stream",
          "text": [
            "Address Match: 917, Chapin Road, Chapin, Lexington County, South Carolina, 29036, United States of America\n",
            "Coordinates: (34.1623905555556, -81.3452802222222)\n"
          ],
          "name": "stdout"
        }
      ]
    },
    {
      "cell_type": "markdown",
      "metadata": {
        "id": "2KKctQJDfinw",
        "colab_type": "text"
      },
      "source": [
        "## Define a Map Querying Function\n",
        "\n",
        "This function will help us repeatedly read from OpenStreetMap with minimal coding."
      ]
    },
    {
      "cell_type": "code",
      "metadata": {
        "id": "dmei_-5GfhK1",
        "colab_type": "code",
        "colab": {}
      },
      "source": [
        "def map_query(longitude:float, latitude:float) -> dict:\n",
        "  '''Query OpenStreetMap for a long/lat coordinate and return relevant metadata.'''\n",
        "  url = f'https://nominatim.openstreetmap.org/reverse?format=jsonv2&lat={latitude}&lon={longitude}&zoom=18&addressdetails=1&namedetails=1'\n",
        "  data = json.loads(requests.get(url).text)\n",
        "  return data"
      ],
      "execution_count": 0,
      "outputs": []
    },
    {
      "cell_type": "markdown",
      "metadata": {
        "id": "hvbh8IZaN_Em",
        "colab_type": "text"
      },
      "source": [
        "## Do Some Math :'(\n",
        "\n",
        "Since we will need to develop counties surrounding our provided address, we will create a function to return a set of coordinates in a radius around a given point.\n",
        "\n",
        "A special thank you goes out to [Mike T.](https://gis.stackexchange.com/users/1872/mike-t) on [Stack Exchange](https://gis.stackexchange.com/questions/289044/creating-buffer-circle-x-kilometers-from-point-using-python) for providing the function logic."
      ]
    },
    {
      "cell_type": "code",
      "metadata": {
        "id": "I4aMSgG8EpRx",
        "colab_type": "code",
        "colab": {}
      },
      "source": [
        "# instantiate a geographic projector\n",
        "proj = pyproj.Proj(init='epsg:4326')\n",
        "\n",
        "# define a function that will return a set of coordinates in N radius (km) from a point\n",
        "def geodesic_point_buffer(lat, lon, km):\n",
        "    # azimuthal equidistant projection\n",
        "    project = partial(\n",
        "        pyproj.transform,\n",
        "        pyproj.Proj(f'+proj=aeqd +lat_0={lat} +lon_0={lon} +x_0=0 +y_0=0'),\n",
        "        proj)\n",
        "    buf = Point(0, 0).buffer(km * 1000)  # distance in metres\n",
        "    return transform(project, buf).exterior.coords[:]"
      ],
      "execution_count": 0,
      "outputs": []
    },
    {
      "cell_type": "markdown",
      "metadata": {
        "id": "kolUNvTfOkmP",
        "colab_type": "text"
      },
      "source": [
        "## Query the Address Metadata\n",
        "\n",
        "Now that we have longitude/latitude coordinates for our address (or whatever returned from the search), we can query regional boundaries via OpenStreetMap."
      ]
    },
    {
      "cell_type": "code",
      "metadata": {
        "id": "bdGqh7lqhSGK",
        "colab_type": "code",
        "outputId": "4f199f09-d12b-46ed-9da5-06732de3c95b",
        "colab": {
          "base_uri": "https://localhost:8080/",
          "height": 156
        }
      },
      "source": [
        "# query the main location data\n",
        "location_data = map_query(longitude=location.longitude, latitude=location.latitude)\n",
        "\n",
        "# print the location data\n",
        "print(f'Address:       {location.address}')\n",
        "print(f'County:        {location_data[\"address\"][\"county\"]}')\n",
        "print(f'State:         {location_data[\"address\"][\"state\"]}')\n",
        "print(f'Zip Code:      {location_data[\"address\"][\"postcode\"]}')\n",
        "print(f'Country:       {location_data[\"address\"][\"country\"]}')\n",
        "print(f'Country Code:  {location_data[\"address\"][\"country_code\"]}\\n\\n')\n",
        "\n",
        "# optionally, we could print all of the data being returned\n",
        "# pprint.pprint(location_data)"
      ],
      "execution_count": 0,
      "outputs": [
        {
          "output_type": "stream",
          "text": [
            "Address:       917, Chapin Road, Chapin, Lexington County, South Carolina, 29036, United States of America\n",
            "County:        Lexington County\n",
            "State:         South Carolina\n",
            "Zip Code:      29036\n",
            "Country:       United States of America\n",
            "Country Code:  us\n",
            "\n",
            "\n"
          ],
          "name": "stdout"
        }
      ]
    },
    {
      "cell_type": "markdown",
      "metadata": {
        "id": "i6fS6wZNP9r9",
        "colab_type": "text"
      },
      "source": [
        "## Query the Surrounding Area\n",
        "\n",
        "Here is where we will query the surrounding area (defined above). The search is performed as a radius around the original coordinates in kilometers."
      ]
    },
    {
      "cell_type": "code",
      "metadata": {
        "id": "7WDUCNfAO0yU",
        "colab_type": "code",
        "outputId": "dbc3d338-11f0-466f-918c-a3daf1325d66",
        "colab": {
          "base_uri": "https://localhost:8080/",
          "height": 35
        }
      },
      "source": [
        "# query the surrounding area\n",
        "surrounding_area_data = {}\n",
        "surrounding_area_counter = 0\n",
        "\n",
        "for bounding_point in geodesic_point_buffer(location.latitude, location.longitude, search_kilometers):\n",
        "  surrounding_area_data.update({ str(surrounding_area_counter): map_query(longitude=bounding_point[0], latitude=bounding_point[1]) })\n",
        "  surrounding_area_counter += 1\n",
        "\n",
        "print(f'Total query points for the surrounding area: {surrounding_area_counter + 1}')"
      ],
      "execution_count": 0,
      "outputs": [
        {
          "output_type": "stream",
          "text": [
            "Total query points for the surrounding area: 67\n"
          ],
          "name": "stdout"
        }
      ]
    },
    {
      "cell_type": "markdown",
      "metadata": {
        "id": "PitwW3PwQSLu",
        "colab_type": "text"
      },
      "source": [
        "## Determine Count(ies) within the Search Parameters\n",
        "Now that we have location data for the address being searched as well as the surrounding area, we can easily determine which count(ies) fall within the radius."
      ]
    },
    {
      "cell_type": "code",
      "metadata": {
        "id": "gCHB2iu0QSXs",
        "colab_type": "code",
        "outputId": "fed9eed6-d11c-4292-f4da-2a5d50d6003b",
        "colab": {
          "base_uri": "https://localhost:8080/",
          "height": 139
        }
      },
      "source": [
        "# determine counties to develop\n",
        "counties_to_develop = pd.DataFrame(columns=['State','County'])\n",
        "counties_counter = 1\n",
        "\n",
        "counties_to_develop = counties_to_develop.append({ 'State': location_data[\"address\"][\"state\"], 'County': location_data[\"address\"][\"county\"] }, ignore_index=True)\n",
        "\n",
        "for key, value in surrounding_area_data.items():\n",
        "  counties_counter += 1\n",
        "  if value[\"category\"] == 'place':\n",
        "    counties_to_develop = counties_to_develop.append({ 'State': value[\"address\"][\"state\"], 'County': value[\"address\"][\"county\"] }, ignore_index=True)\n",
        "\n",
        "print(f'Counties within {search_kilometers} kilometers of \"{location.address}\":\\n')\n",
        "print(counties_to_develop[['State', 'County']].drop_duplicates())"
      ],
      "execution_count": 0,
      "outputs": [
        {
          "output_type": "stream",
          "text": [
            "Counties within 20 kilometers of \"917, Chapin Road, Chapin, Lexington County, South Carolina, 29036, United States of America\":\n",
            "\n",
            "             State            County\n",
            "0   South Carolina  Lexington County\n",
            "10  South Carolina     Saluda County\n",
            "14  South Carolina   Newberry County\n",
            "20  South Carolina  Fairfield County\n"
          ],
          "name": "stdout"
        }
      ]
    }
  ]
}